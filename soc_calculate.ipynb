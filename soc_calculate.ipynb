{
 "cells": [
  {
   "cell_type": "code",
   "execution_count": 42,
   "metadata": {},
   "outputs": [],
   "source": [
    "import pandas as pd\n",
    "import numpy as np\n",
    "import pickle\n",
    "# Data Visualization\n",
    "import seaborn as sns\n",
    "import matplotlib.pyplot as plt\n",
    "import scipy.ndimage.filters as filters"
   ]
  },
  {
   "cell_type": "code",
   "execution_count": 33,
   "metadata": {},
   "outputs": [
    {
     "data": {
      "text/html": [
       "<div>\n",
       "<style scoped>\n",
       "    .dataframe tbody tr th:only-of-type {\n",
       "        vertical-align: middle;\n",
       "    }\n",
       "\n",
       "    .dataframe tbody tr th {\n",
       "        vertical-align: top;\n",
       "    }\n",
       "\n",
       "    .dataframe thead th {\n",
       "        text-align: right;\n",
       "    }\n",
       "</style>\n",
       "<table border=\"1\" class=\"dataframe\">\n",
       "  <thead>\n",
       "    <tr style=\"text-align: right;\">\n",
       "      <th></th>\n",
       "      <th>Date and Time</th>\n",
       "      <th>Unnamed: 1</th>\n",
       "      <th>Unnamed: 2</th>\n",
       "      <th>Unnamed: 3</th>\n",
       "    </tr>\n",
       "  </thead>\n",
       "  <tbody>\n",
       "    <tr>\n",
       "      <th>0</th>\n",
       "      <td>Tue Mar 29 12:32:50 2022</td>\n",
       "      <td>1</td>\n",
       "      <td>1655</td>\n",
       "      <td>30812</td>\n",
       "    </tr>\n",
       "    <tr>\n",
       "      <th>1</th>\n",
       "      <td>Tue Mar 29 12:32:52 2022</td>\n",
       "      <td>2</td>\n",
       "      <td>1655</td>\n",
       "      <td>30812</td>\n",
       "    </tr>\n",
       "    <tr>\n",
       "      <th>2</th>\n",
       "      <td>Tue Mar 29 12:32:54 2022</td>\n",
       "      <td>3</td>\n",
       "      <td>1655</td>\n",
       "      <td>30812</td>\n",
       "    </tr>\n",
       "    <tr>\n",
       "      <th>3</th>\n",
       "      <td>Tue Mar 29 12:32:56 2022</td>\n",
       "      <td>4</td>\n",
       "      <td>1653</td>\n",
       "      <td>30812</td>\n",
       "    </tr>\n",
       "    <tr>\n",
       "      <th>4</th>\n",
       "      <td>Tue Mar 29 12:32:58 2022</td>\n",
       "      <td>5</td>\n",
       "      <td>1653</td>\n",
       "      <td>30812</td>\n",
       "    </tr>\n",
       "    <tr>\n",
       "      <th>...</th>\n",
       "      <td>...</td>\n",
       "      <td>...</td>\n",
       "      <td>...</td>\n",
       "      <td>...</td>\n",
       "    </tr>\n",
       "    <tr>\n",
       "      <th>786</th>\n",
       "      <td>Tue Mar 29 12:56:44 2022</td>\n",
       "      <td>787</td>\n",
       "      <td>1861</td>\n",
       "      <td>30625</td>\n",
       "    </tr>\n",
       "    <tr>\n",
       "      <th>787</th>\n",
       "      <td>Tue Mar 29 12:56:46 2022</td>\n",
       "      <td>788</td>\n",
       "      <td>1855</td>\n",
       "      <td>30625</td>\n",
       "    </tr>\n",
       "    <tr>\n",
       "      <th>788</th>\n",
       "      <td>Tue Mar 29 12:56:48 2022</td>\n",
       "      <td>789</td>\n",
       "      <td>1863</td>\n",
       "      <td>30687</td>\n",
       "    </tr>\n",
       "    <tr>\n",
       "      <th>789</th>\n",
       "      <td>Tue Mar 29 12:56:49 2022</td>\n",
       "      <td>790</td>\n",
       "      <td>1865</td>\n",
       "      <td>30625</td>\n",
       "    </tr>\n",
       "    <tr>\n",
       "      <th>790</th>\n",
       "      <td>Tue Mar 29 12:56:51 2022</td>\n",
       "      <td>791</td>\n",
       "      <td>1870</td>\n",
       "      <td>30625</td>\n",
       "    </tr>\n",
       "  </tbody>\n",
       "</table>\n",
       "<p>791 rows × 4 columns</p>\n",
       "</div>"
      ],
      "text/plain": [
       "                Date and Time  Unnamed: 1  Unnamed: 2  Unnamed: 3\n",
       "0    Tue Mar 29 12:32:50 2022           1        1655       30812\n",
       "1    Tue Mar 29 12:32:52 2022           2        1655       30812\n",
       "2    Tue Mar 29 12:32:54 2022           3        1655       30812\n",
       "3    Tue Mar 29 12:32:56 2022           4        1653       30812\n",
       "4    Tue Mar 29 12:32:58 2022           5        1653       30812\n",
       "..                        ...         ...         ...         ...\n",
       "786  Tue Mar 29 12:56:44 2022         787        1861       30625\n",
       "787  Tue Mar 29 12:56:46 2022         788        1855       30625\n",
       "788  Tue Mar 29 12:56:48 2022         789        1863       30687\n",
       "789  Tue Mar 29 12:56:49 2022         790        1865       30625\n",
       "790  Tue Mar 29 12:56:51 2022         791        1870       30625\n",
       "\n",
       "[791 rows x 4 columns]"
      ]
     },
     "execution_count": 33,
     "metadata": {},
     "output_type": "execute_result"
    }
   ],
   "source": [
    "df = pd.read_csv('./csv-data/test.csv')\n",
    "\n",
    "df "
   ]
  },
  {
   "cell_type": "code",
   "execution_count": 34,
   "metadata": {},
   "outputs": [
    {
     "data": {
      "text/html": [
       "<div>\n",
       "<style scoped>\n",
       "    .dataframe tbody tr th:only-of-type {\n",
       "        vertical-align: middle;\n",
       "    }\n",
       "\n",
       "    .dataframe tbody tr th {\n",
       "        vertical-align: top;\n",
       "    }\n",
       "\n",
       "    .dataframe thead th {\n",
       "        text-align: right;\n",
       "    }\n",
       "</style>\n",
       "<table border=\"1\" class=\"dataframe\">\n",
       "  <thead>\n",
       "    <tr style=\"text-align: right;\">\n",
       "      <th></th>\n",
       "      <th>time</th>\n",
       "      <th>sample_no</th>\n",
       "      <th>Voltage</th>\n",
       "      <th>Temperature</th>\n",
       "      <th>current</th>\n",
       "      <th>power</th>\n",
       "    </tr>\n",
       "  </thead>\n",
       "  <tbody>\n",
       "    <tr>\n",
       "      <th>0</th>\n",
       "      <td>Tue Mar 29 12:32:50 2022</td>\n",
       "      <td>1</td>\n",
       "      <td>3.597826</td>\n",
       "      <td>30.812</td>\n",
       "      <td>1.8</td>\n",
       "      <td>6.476087</td>\n",
       "    </tr>\n",
       "    <tr>\n",
       "      <th>1</th>\n",
       "      <td>Tue Mar 29 12:32:52 2022</td>\n",
       "      <td>2</td>\n",
       "      <td>3.597826</td>\n",
       "      <td>30.812</td>\n",
       "      <td>1.8</td>\n",
       "      <td>6.476087</td>\n",
       "    </tr>\n",
       "    <tr>\n",
       "      <th>2</th>\n",
       "      <td>Tue Mar 29 12:32:54 2022</td>\n",
       "      <td>3</td>\n",
       "      <td>3.597826</td>\n",
       "      <td>30.812</td>\n",
       "      <td>1.8</td>\n",
       "      <td>6.476087</td>\n",
       "    </tr>\n",
       "    <tr>\n",
       "      <th>3</th>\n",
       "      <td>Tue Mar 29 12:32:56 2022</td>\n",
       "      <td>4</td>\n",
       "      <td>3.593478</td>\n",
       "      <td>30.812</td>\n",
       "      <td>1.8</td>\n",
       "      <td>6.468261</td>\n",
       "    </tr>\n",
       "    <tr>\n",
       "      <th>4</th>\n",
       "      <td>Tue Mar 29 12:32:58 2022</td>\n",
       "      <td>5</td>\n",
       "      <td>3.593478</td>\n",
       "      <td>30.812</td>\n",
       "      <td>1.8</td>\n",
       "      <td>6.468261</td>\n",
       "    </tr>\n",
       "    <tr>\n",
       "      <th>...</th>\n",
       "      <td>...</td>\n",
       "      <td>...</td>\n",
       "      <td>...</td>\n",
       "      <td>...</td>\n",
       "      <td>...</td>\n",
       "      <td>...</td>\n",
       "    </tr>\n",
       "    <tr>\n",
       "      <th>786</th>\n",
       "      <td>Tue Mar 29 12:56:44 2022</td>\n",
       "      <td>787</td>\n",
       "      <td>4.045652</td>\n",
       "      <td>30.625</td>\n",
       "      <td>1.8</td>\n",
       "      <td>7.282174</td>\n",
       "    </tr>\n",
       "    <tr>\n",
       "      <th>787</th>\n",
       "      <td>Tue Mar 29 12:56:46 2022</td>\n",
       "      <td>788</td>\n",
       "      <td>4.032609</td>\n",
       "      <td>30.625</td>\n",
       "      <td>1.8</td>\n",
       "      <td>7.258696</td>\n",
       "    </tr>\n",
       "    <tr>\n",
       "      <th>788</th>\n",
       "      <td>Tue Mar 29 12:56:48 2022</td>\n",
       "      <td>789</td>\n",
       "      <td>4.050000</td>\n",
       "      <td>30.687</td>\n",
       "      <td>1.8</td>\n",
       "      <td>7.290000</td>\n",
       "    </tr>\n",
       "    <tr>\n",
       "      <th>789</th>\n",
       "      <td>Tue Mar 29 12:56:49 2022</td>\n",
       "      <td>790</td>\n",
       "      <td>4.054348</td>\n",
       "      <td>30.625</td>\n",
       "      <td>1.8</td>\n",
       "      <td>7.297826</td>\n",
       "    </tr>\n",
       "    <tr>\n",
       "      <th>790</th>\n",
       "      <td>Tue Mar 29 12:56:51 2022</td>\n",
       "      <td>791</td>\n",
       "      <td>4.065217</td>\n",
       "      <td>30.625</td>\n",
       "      <td>1.8</td>\n",
       "      <td>7.317391</td>\n",
       "    </tr>\n",
       "  </tbody>\n",
       "</table>\n",
       "<p>791 rows × 6 columns</p>\n",
       "</div>"
      ],
      "text/plain": [
       "                         time  sample_no   Voltage  Temperature  current  \\\n",
       "0    Tue Mar 29 12:32:50 2022          1  3.597826       30.812      1.8   \n",
       "1    Tue Mar 29 12:32:52 2022          2  3.597826       30.812      1.8   \n",
       "2    Tue Mar 29 12:32:54 2022          3  3.597826       30.812      1.8   \n",
       "3    Tue Mar 29 12:32:56 2022          4  3.593478       30.812      1.8   \n",
       "4    Tue Mar 29 12:32:58 2022          5  3.593478       30.812      1.8   \n",
       "..                        ...        ...       ...          ...      ...   \n",
       "786  Tue Mar 29 12:56:44 2022        787  4.045652       30.625      1.8   \n",
       "787  Tue Mar 29 12:56:46 2022        788  4.032609       30.625      1.8   \n",
       "788  Tue Mar 29 12:56:48 2022        789  4.050000       30.687      1.8   \n",
       "789  Tue Mar 29 12:56:49 2022        790  4.054348       30.625      1.8   \n",
       "790  Tue Mar 29 12:56:51 2022        791  4.065217       30.625      1.8   \n",
       "\n",
       "        power  \n",
       "0    6.476087  \n",
       "1    6.476087  \n",
       "2    6.476087  \n",
       "3    6.468261  \n",
       "4    6.468261  \n",
       "..        ...  \n",
       "786  7.282174  \n",
       "787  7.258696  \n",
       "788  7.290000  \n",
       "789  7.297826  \n",
       "790  7.317391  \n",
       "\n",
       "[791 rows x 6 columns]"
      ]
     },
     "execution_count": 34,
     "metadata": {},
     "output_type": "execute_result"
    }
   ],
   "source": [
    "df.columns = ['time','sample_no', 'Voltage','Temperature']\n",
    "df['Voltage'] = df['Voltage']/460\n",
    "df['Temperature'] = df['Temperature']/1000\n",
    "df['current'] = 1.8\n",
    "df['power'] = df['Voltage']*df['current']\n",
    "df"
   ]
  },
  {
   "cell_type": "code",
   "execution_count": 43,
   "metadata": {},
   "outputs": [
    {
     "data": {
      "text/plain": [
       "<AxesSubplot:>"
      ]
     },
     "execution_count": 43,
     "metadata": {},
     "output_type": "execute_result"
    },
    {
     "data": {
      "image/png": "[encoded data removed]",
      "text/plain": [
       "<Figure size 432x288 with 1 Axes>"
      ]
     },
     "metadata": {
      "needs_background": "light"
     },
     "output_type": "display_data"
    }
   ],
   "source": [
    "df['Voltage'].plot()"
   ]
  },
  {
   "cell_type": "code",
   "execution_count": 44,
   "metadata": {},
   "outputs": [
    {
     "data": {
      "text/plain": [
       "<AxesSubplot:>"
      ]
     },
     "execution_count": 44,
     "metadata": {},
     "output_type": "execute_result"
    },
    {
     "data": {
      "image/png": "[encoded data removed]",
      "text/plain": [
       "<Figure size 432x288 with 1 Axes>"
      ]
     },
     "metadata": {
      "needs_background": "light"
     },
     "output_type": "display_data"
    }
   ],
   "source": [
    "df['Voltage_smooth'] = filters.gaussian_filter1d(df['Voltage'],sigma=25)\n",
    "df['Voltage_smooth'].plot()"
   ]
  },
  {
   "cell_type": "code",
   "execution_count": 45,
   "metadata": {},
   "outputs": [
    {
     "data": {
      "text/plain": [
       "array([ 3.60312802,  1.8       ,  6.47608696, 30.812     ])"
      ]
     },
     "execution_count": 45,
     "metadata": {},
     "output_type": "execute_result"
    }
   ],
   "source": [
    "features = ['Voltage_smooth','current','power','Temperature']\n",
    "X = df[features]\n",
    "X.values[0]"
   ]
  },
  {
   "cell_type": "code",
   "execution_count": 46,
   "metadata": {},
   "outputs": [
    {
     "data": {
      "text/plain": [
       "array([[ 3.60312802,  1.8       ,  6.47608696, 30.812     ]])"
      ]
     },
     "execution_count": 46,
     "metadata": {},
     "output_type": "execute_result"
    }
   ],
   "source": [
    "X.values[0].reshape(1,4)"
   ]
  },
  {
   "cell_type": "code",
   "execution_count": 47,
   "metadata": {},
   "outputs": [],
   "source": [
    "model = pickle.load(open('model.pkl', 'rb'))\n"
   ]
  },
  {
   "cell_type": "code",
   "execution_count": 48,
   "metadata": {},
   "outputs": [
    {
     "name": "stderr",
     "output_type": "stream",
     "text": [
      "C:\\Users\\Hp\\PycharmProjects\\pypart2\\venv\\lib\\site-packages\\sklearn\\base.py:451: UserWarning: X does not have valid feature names, but RandomForestRegressor was fitted with feature names\n",
      "  \"X does not have valid feature names, but\"\n"
     ]
    }
   ],
   "source": [
    "y_test = model.predict(X.values)"
   ]
  },
  {
   "cell_type": "code",
   "execution_count": 49,
   "metadata": {},
   "outputs": [],
   "source": [
    "SoC = y_test*100"
   ]
  },
  {
   "cell_type": "code",
   "execution_count": 59,
   "metadata": {},
   "outputs": [],
   "source": [
    "time = np.arange(0, len(SoC)*2,2).tolist()"
   ]
  },
  {
   "cell_type": "code",
   "execution_count": 60,
   "metadata": {},
   "outputs": [
    {
     "data": {
      "image/png": "[encoded data removed]",
      "text/plain": [
       "<Figure size 1440x720 with 1 Axes>"
      ]
     },
     "metadata": {
      "needs_background": "light"
     },
     "output_type": "display_data"
    }
   ],
   "source": [
    "plt.figure(figsize=(20, 10))\n",
    "\n",
    "plt.plot(time,SoC, label='Predicted')\n",
    "\n",
    "plt.title('Graph of predicted SoC against Time')\n",
    "plt.xlabel('Time (sec)')\n",
    "plt.ylabel('SoC %')\n",
    "plt.ylim((0,100))\n",
    "# plt.xticks(np.linspace(min(y), max(y)), )\n",
    "plt.legend()\n",
    "\n",
    "plt.show()"
   ]
  },
  {
   "cell_type": "code",
   "execution_count": null,
   "metadata": {},
   "outputs": [],
   "source": []
  }
 ],
 "metadata": {
  "interpreter": {
   "hash": "2c407f884881078be65b01e812d88b8d7f9b11c19dff5b316e5ff5c043c817a2"
  },
  "kernelspec": {
   "display_name": "Python 3.7.7 64-bit (system)",
   "language": "python",
   "name": "python3"
  },
  "language_info": {
   "codemirror_mode": {
    "name": "ipython",
    "version": 3
   },
   "file_extension": ".py",
   "mimetype": "text/x-python",
   "name": "python",
   "nbconvert_exporter": "python",
   "pygments_lexer": "ipython3",
   "version": "3.7.7"
  },
  "orig_nbformat": 4
 },
 "nbformat": 4,
 "nbformat_minor": 2
}
